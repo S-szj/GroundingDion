{
 "cells": [
  {
   "cell_type": "code",
   "execution_count": 1,
   "metadata": {},
   "outputs": [
    {
     "name": "stderr",
     "output_type": "stream",
     "text": [
      "/home/shizijie/.local/lib/python3.8/site-packages/tqdm/auto.py:21: TqdmWarning: IProgress not found. Please update jupyter and ipywidgets. See https://ipywidgets.readthedocs.io/en/stable/user_install.html\n",
      "  from .autonotebook import tqdm as notebook_tqdm\n"
     ]
    }
   ],
   "source": [
    "from GroundingDINO.groundingdino.util.slconfig import SLConfig\n",
    "import torch\n",
    "from GroundingDINO.groundingdino.models import build_model\n",
    "from GroundingDINO.groundingdino.util.utils import clean_state_dict\n",
    "from GroundingDINO.groundingdino.util.inference import annotate, load_image, predict\n",
    "from PIL import Image\n",
    "from segment_anything import build_sam, SamPredictor \n",
    "from GroundingDINO.groundingdino.util import box_ops\n",
    "import numpy as np\n"
   ]
  },
  {
   "cell_type": "code",
   "execution_count": 2,
   "metadata": {},
   "outputs": [
    {
     "name": "stderr",
     "output_type": "stream",
     "text": [
      "/home/shizijie/.local/lib/python3.8/site-packages/torch/functional.py:507: UserWarning: torch.meshgrid: in an upcoming release, it will be required to pass the indexing argument. (Triggered internally at ../aten/src/ATen/native/TensorShape.cpp:3549.)\n",
      "  return _VF.meshgrid(tensors, **kwargs)  # type: ignore[attr-defined]\n"
     ]
    },
    {
     "name": "stdout",
     "output_type": "stream",
     "text": [
      "final text_encoder_type: /home/shizijie/experiment/Grounded-Segment-Anything-main/bert-base-uncased\n",
      "Model loaded from ./ShilongLiu/GroundingDINO/groundingdino_swinb_cogcoor.pth \n",
      " => _IncompatibleKeys(missing_keys=[], unexpected_keys=['label_enc.weight', 'bert.embeddings.position_ids'])\n"
     ]
    }
   ],
   "source": [
    "def load_model_local(config_path, model_path, device='cpu'):\n",
    "    # Load configuration\n",
    "    args = SLConfig.fromfile(config_path)\n",
    "    args.device = device\n",
    "    # Load model state dictionary\n",
    "    checkpoint = torch.load(model_path, map_location=device)\n",
    "    # Build model\n",
    "    model = build_model(args)\n",
    "    log = model.load_state_dict(clean_state_dict(checkpoint['model']), strict=False)\n",
    "    print(\"Model loaded from {} \\n => {}\".format(model_path, log))    \n",
    "    # Set model to evaluation mode\n",
    "    _ = model.eval()\n",
    "    return model\n",
    "\n",
    "ckpt_repo_id = \"ShilongLiu/GroundingDINO\"\n",
    "ckpt_filenmae = \"./ShilongLiu/GroundingDINO/groundingdino_swinb_cogcoor.pth\"\n",
    "ckpt_config_filename = \"./ShilongLiu/GroundingDINO/GroundingDINO_SwinB.cfg.py\"\n",
    "torch.cuda.set_device(1)\n",
    "device = torch.device(\"cuda\")\n",
    "groundingdino_model = load_model_local(ckpt_config_filename, ckpt_filenmae,device=device)"
   ]
  },
  {
   "cell_type": "code",
   "execution_count": 3,
   "metadata": {},
   "outputs": [
    {
     "name": "stderr",
     "output_type": "stream",
     "text": [
      "/home/shizijie/.local/lib/python3.8/site-packages/transformers/modeling_utils.py:962: FutureWarning: The `device` argument is deprecated and will be removed in v5 of Transformers.\n",
      "  warnings.warn(\n",
      "/home/shizijie/.local/lib/python3.8/site-packages/torch/utils/checkpoint.py:460: UserWarning: torch.utils.checkpoint: please pass in use_reentrant=True or use_reentrant=False explicitly. The default value of use_reentrant will be updated to be False in the future. To maintain current behavior, pass use_reentrant=True. It is recommended that you use use_reentrant=False. Refer to docs for more details on the differences between the two variants.\n",
      "  warnings.warn(\n",
      "/home/shizijie/.local/lib/python3.8/site-packages/torch/utils/checkpoint.py:90: UserWarning: None of the inputs have requires_grad=True. Gradients will be None\n",
      "  warnings.warn(\n"
     ]
    }
   ],
   "source": [
    "local_image_path = './test_img/input_img/002/right000020.jpg'\n",
    "TEXT_PROMPT = \"tablecloth\"\n",
    "# TEXT_PROMPT = \"hand\"\n",
    "BOX_TRESHOLD = 0.3\n",
    "TEXT_TRESHOLD = 0.25\n",
    "\n",
    "image_source, image = load_image(local_image_path)\n",
    "\n",
    "boxes, logits, phrases = predict(\n",
    "    model=groundingdino_model, \n",
    "    image=image, \n",
    "    caption=TEXT_PROMPT, \n",
    "    box_threshold=BOX_TRESHOLD, \n",
    "    text_threshold=TEXT_TRESHOLD\n",
    ")\n",
    "annotated_frame = annotate(image_source=image_source, boxes=boxes, logits=logits, phrases=phrases)\n",
    "annotated_frame = annotated_frame[...,::-1] # BGR to RGB\n",
    "\n",
    "sam_checkpoint = './SAM/sam_vit_h_4b8939.pth'\n",
    "sam = build_sam(checkpoint=sam_checkpoint)\n",
    "sam.to(device=device)\n",
    "sam_predictor = SamPredictor(sam)\n",
    "# set image\n",
    "sam_predictor.set_image(image_source)"
   ]
  },
  {
   "cell_type": "code",
   "execution_count": 4,
   "metadata": {},
   "outputs": [
    {
     "data": {
      "image/jpeg": "[encoded data removed]",
      "image/png": "[encoded data removed]",
      "text/plain": [
       "<PIL.Image.Image image mode=1 size=640x480>"
      ]
     },
     "execution_count": 4,
     "metadata": {},
     "output_type": "execute_result"
    }
   ],
   "source": [
    "# box: normalized box xywh -> unnormalized xyxy\n",
    "from GroundingDINO.groundingdino.util import box_ops\n",
    "H, W, _ = image_source.shape\n",
    "boxes_xyxy = box_ops.box_cxcywh_to_xyxy(boxes) * torch.Tensor([W, H, W, H])\n",
    "transformed_boxes = sam_predictor.transform.apply_boxes_torch(boxes_xyxy, image_source.shape[:2]).to(device)\n",
    "masks, _, _ = sam_predictor.predict_torch(\n",
    "            point_coords = None,\n",
    "            point_labels = None,\n",
    "            boxes = transformed_boxes,\n",
    "            multimask_output = False,\n",
    "        )\n",
    "def show_mask(mask, image, random_color=True):\n",
    "    if random_color:\n",
    "        color = np.concatenate([np.random.random(3), np.array([0.8])], axis=0)\n",
    "    else:\n",
    "        color = np.array([30/255, 144/255, 255/255, 0.6])\n",
    "    h, w = mask.shape[-2:]\n",
    "    mask_cpu = mask.cpu()\n",
    "    mask_image = mask_cpu.reshape(h, w, 1) * color.reshape(1, 1, -1)\n",
    "    \n",
    "    annotated_frame_pil = Image.fromarray(image).convert(\"RGBA\")\n",
    "    mask_image_pil = Image.fromarray((mask_image.cpu().numpy() * 255).astype(np.uint8)).convert(\"RGBA\")\n",
    "\n",
    "    return np.array(Image.alpha_composite(annotated_frame_pil, mask_image_pil))\n",
    "\n",
    "annotated_frame_with_mask = show_mask(masks[0][0], annotated_frame)\n",
    "image_mask = masks[0][0].cpu().numpy()\n",
    "image_mask_pil = Image.fromarray(image_mask)\n",
    "image_source_pil = Image.fromarray(image_source)\n",
    "annotated_frame_pil = Image.fromarray(annotated_frame)\n",
    "annotated_frame_with_mask_pil = Image.fromarray(annotated_frame_with_mask)\n",
    "image_mask_pil"
   ]
  }
 ],
 "metadata": {
  "kernelspec": {
   "display_name": "control",
   "language": "python",
   "name": "python3"
  },
  "language_info": {
   "codemirror_mode": {
    "name": "ipython",
    "version": 3
   },
   "file_extension": ".py",
   "mimetype": "text/x-python",
   "name": "python",
   "nbconvert_exporter": "python",
   "pygments_lexer": "ipython3",
   "version": "3.8.5"
  }
 },
 "nbformat": 4,
 "nbformat_minor": 2
}
